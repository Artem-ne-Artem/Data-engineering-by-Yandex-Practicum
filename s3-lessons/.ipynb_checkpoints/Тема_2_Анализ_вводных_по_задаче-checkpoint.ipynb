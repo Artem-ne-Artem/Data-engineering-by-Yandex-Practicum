{
 "cells": [
  {
   "cell_type": "code",
   "execution_count": 63,
   "metadata": {},
   "outputs": [],
   "source": [
    "import requests\n",
    "import json\n",
    "import pandas as pd"
   ]
  },
  {
   "cell_type": "code",
   "execution_count": 58,
   "metadata": {},
   "outputs": [
    {
     "data": {
      "text/plain": [
       "'MjAyMi0xMS0zMFQwMzoxNDo0MglkZGQuei4yMDAw'"
      ]
     },
     "execution_count": 58,
     "metadata": {},
     "output_type": "execute_result"
    }
   ],
   "source": [
    "generate_report_response = requests.post(\n",
    "    \"https://d5dg1j9kt695d30blp03.apigw.yandexcloud.net/generate_report\", # точка входа\n",
    "    headers={\n",
    "    \"X-API-KEY\": \"5f55e6c0-e9e5-4a9c-b313-63c01fc31460\", # ключ API\n",
    "    \"X-Nickname\": \"ddd.z.2000\", # авторизационные данные\n",
    "    \"X-Cohort\": \"8\" # авторизационные данные\n",
    "    }\n",
    ").json()\n",
    "task_id = generate_report_response[\"task_id\"]\n",
    "task_id"
   ]
  },
  {
   "cell_type": "code",
   "execution_count": 11,
   "metadata": {
    "scrolled": true
   },
   "outputs": [
    {
     "data": {
      "text/plain": [
       "{'task_id': 'MjAyMi0xMS0zMFQwMjoyNTo1MQlkZGQuei4yMDAw',\n",
       " 'status': 'RUNNING',\n",
       " 'data': {'report_id': None,\n",
       "  'start_day': None,\n",
       "  'end_date': None,\n",
       "  's3_path': {}}}"
      ]
     },
     "execution_count": 11,
     "metadata": {},
     "output_type": "execute_result"
    }
   ],
   "source": [
    "get_report_response = requests.get(\n",
    "    f\"https://d5dg1j9kt695d30blp03.apigw.yandexcloud.net/get_report?task_id={task_id}\", \n",
    "    headers={\n",
    "    \"X-API-KEY\": \"5f55e6c0-e9e5-4a9c-b313-63c01fc31460\",\n",
    "    \"X-Nickname\": \"ddd.z.2000\",\n",
    "    \"X-Cohort\": \"8\"\n",
    "    }\n",
    ").json()\n",
    "#print(get_report_response) \n",
    "get_report_response"
   ]
  },
  {
   "cell_type": "markdown",
   "metadata": {},
   "source": [
    "#### ========================================================================================================"
   ]
  },
  {
   "cell_type": "code",
   "execution_count": 15,
   "metadata": {},
   "outputs": [
    {
     "ename": "NameError",
     "evalue": "name 'task_id' is not defined",
     "output_type": "error",
     "traceback": [
      "\u001b[1;31m---------------------------------------------------------------------------\u001b[0m",
      "\u001b[1;31mNameError\u001b[0m                                 Traceback (most recent call last)",
      "\u001b[1;32m<ipython-input-15-2a87b47a233d>\u001b[0m in \u001b[0;36m<module>\u001b[1;34m\u001b[0m\n\u001b[0;32m      3\u001b[0m \u001b[1;31m# task 1\u001b[0m\u001b[1;33m\u001b[0m\u001b[1;33m\u001b[0m\u001b[1;33m\u001b[0m\u001b[0m\n\u001b[0;32m      4\u001b[0m get_report_response_2 = requests.get(\n\u001b[1;32m----> 5\u001b[1;33m     \u001b[1;34mf\"https://d5dg1j9kt695d30blp03.apigw.yandexcloud.net/get_report?task_id={task_id}\"\u001b[0m\u001b[1;33m,\u001b[0m\u001b[1;33m\u001b[0m\u001b[1;33m\u001b[0m\u001b[0m\n\u001b[0m\u001b[0;32m      6\u001b[0m     headers={\n\u001b[0;32m      7\u001b[0m     \u001b[1;34m\"X-API-KEY\"\u001b[0m\u001b[1;33m:\u001b[0m \u001b[1;34m\"5f55e6c0-e9e5-4a9c-b313-63c01fc31460\"\u001b[0m\u001b[1;33m,\u001b[0m\u001b[1;33m\u001b[0m\u001b[1;33m\u001b[0m\u001b[0m\n",
      "\u001b[1;31mNameError\u001b[0m: name 'task_id' is not defined"
     ]
    }
   ],
   "source": [
    "# Тема 2. Анализ вводных по задаче\n",
    "# Урок 6. Анализ источника: подключение к API\n",
    "# task 1\n",
    "get_report_response_2 = requests.get(\n",
    "    f\"https://d5dg1j9kt695d30blp03.apigw.yandexcloud.net/get_report?task_id={task_id}\", \n",
    "    headers={\n",
    "    \"X-API-KEY\": \"5f55e6c0-e9e5-4a9c-b313-63c01fc31460\",\n",
    "    \"X-Nickname\": \"ddd.z.2000\",\n",
    "    \"X-Cohort\": \"8\"\n",
    "    }\n",
    ").json()\n",
    "get_report_response_2"
   ]
  },
  {
   "cell_type": "code",
   "execution_count": 81,
   "metadata": {},
   "outputs": [
    {
     "data": {
      "text/plain": [
       "{'report_id': 'TWpBeU1pMHhNUzB6TUZRd016b3hORG8wTWdsa1pHUXVlaTR5TURBdw==',\n",
       " 'start_day': '2022-10-31 00:00:00',\n",
       " 'end_date': '2022-11-22 00:00:00',\n",
       " 's3_path': {'customer_research': 'https://storage.yandexcloud.net/s3-sprint3/cohort_8/ddd.z.2000/TWpBeU1pMHhNUzB6TUZRd016b3hORG8wTWdsa1pHUXVlaTR5TURBdw==/customer_research.csv',\n",
       "  'user_order_log': 'https://storage.yandexcloud.net/s3-sprint3/cohort_8/ddd.z.2000/TWpBeU1pMHhNUzB6TUZRd016b3hORG8wTWdsa1pHUXVlaTR5TURBdw==/user_order_log.csv',\n",
       "  'user_activity_log': 'https://storage.yandexcloud.net/s3-sprint3/cohort_8/ddd.z.2000/TWpBeU1pMHhNUzB6TUZRd016b3hORG8wTWdsa1pHUXVlaTR5TURBdw==/user_activity_log.csv',\n",
       "  'price_log': 'https://storage.yandexcloud.net/s3-sprint3/cohort_8/ddd.z.2000/TWpBeU1pMHhNUzB6TUZRd016b3hORG8wTWdsa1pHUXVlaTR5TURBdw==/price_log.csv'}}"
      ]
     },
     "execution_count": 81,
     "metadata": {},
     "output_type": "execute_result"
    }
   ],
   "source": [
    "get_report_response_2['data']"
   ]
  },
  {
   "cell_type": "code",
   "execution_count": 80,
   "metadata": {},
   "outputs": [
    {
     "data": {
      "text/plain": [
       "'TWpBeU1pMHhNUzB6TUZRd016b3hORG8wTWdsa1pHUXVlaTR5TURBdw=='"
      ]
     },
     "execution_count": 80,
     "metadata": {},
     "output_type": "execute_result"
    }
   ],
   "source": [
    "get_report_response_2['data']['report_id']"
   ]
  },
  {
   "cell_type": "markdown",
   "metadata": {},
   "source": [
    "#### ========================================================================================================"
   ]
  },
  {
   "cell_type": "code",
   "execution_count": null,
   "metadata": {},
   "outputs": [],
   "source": [
    "# Тема 2. Анализ вводных по задаче\n",
    "# Урок 7. Анализ источника: использование файлов и подключение к БД\n",
    "# task 1"
   ]
  },
  {
   "cell_type": "code",
   "execution_count": 92,
   "metadata": {},
   "outputs": [
    {
     "name": "stdout",
     "output_type": "stream",
     "text": [
      "https://storage.yandexcloud.net/s3-sprint3/cohort_8/ddd.z.2000/TWpBeU1pMHhNUzB6TUZRd016b3hORG8wTWdsa1pHUXVlaTR5TURBdw==/customer_research.csv\n",
      "Downloaded customer_research.csv\n",
      "https://storage.yandexcloud.net/s3-sprint3/cohort_8/ddd.z.2000/TWpBeU1pMHhNUzB6TUZRd016b3hORG8wTWdsa1pHUXVlaTR5TURBdw==/user_order_log.csv\n",
      "Downloaded user_order_log.csv\n",
      "https://storage.yandexcloud.net/s3-sprint3/cohort_8/ddd.z.2000/TWpBeU1pMHhNUzB6TUZRd016b3hORG8wTWdsa1pHUXVlaTR5TURBdw==/user_activity_log.csv\n",
      "Downloaded user_activity_log.csv\n",
      "https://storage.yandexcloud.net/s3-sprint3/cohort_8/ddd.z.2000/TWpBeU1pMHhNUzB6TUZRd016b3hORG8wTWdsa1pHUXVlaTR5TURBdw==/price_log.csv\n",
      "Downloaded price_log.csv\n"
     ]
    }
   ],
   "source": [
    "import requests\n",
    "import json\n",
    "import pandas as pd\n",
    "\n",
    "#получаем report_id, идентификатор отчёта, который был возвращен в статусе SUCCESS в предыдущем уроке;\n",
    "get_report_response_2 = requests.get(\n",
    "    f\"https://d5dg1j9kt695d30blp03.apigw.yandexcloud.net/get_report?task_id={task_id}\", \n",
    "    headers={\n",
    "    \"X-API-KEY\": \"5f55e6c0-e9e5-4a9c-b313-63c01fc31460\",\n",
    "    \"X-Nickname\": \"ddd.z.2000\",\n",
    "    \"X-Cohort\": \"8\"\n",
    "    }\n",
    ").json()\n",
    "report_id = get_report_response_2.get('data').get('report_id')\n",
    "\n",
    "# номер вашей когорты, который вы задали в запросе на отчёт;\n",
    "cohort = 8\n",
    "# ваш никнейм, который вы также задали при запросе на отчёт;\n",
    "nickname = 'ddd.z.2000'\n",
    "# имя файла\n",
    "files = ('customer_research.csv', 'user_order_log.csv', 'user_activity_log.csv', 'price_log.csv')\n",
    "\n",
    "for file in files:\n",
    "    url = f\"https://storage.yandexcloud.net/s3-sprint3/cohort_{cohort}/{nickname}/{report_id}/{file}\"\n",
    "    # выводим url который нужно выгрузить\n",
    "    print(url)\n",
    "    # сохраняем файл в локальную папку\n",
    "    pd.read_csv(url).to_csv(f'./{file}_new', index = False)\n",
    "    # выводим текст, что файл такой-то сохранён\n",
    "    print(f'Downloaded {file}')"
   ]
  },
  {
   "cell_type": "code",
   "execution_count": 93,
   "metadata": {},
   "outputs": [],
   "source": [
    "# task 2\n",
    "# Логин: jovyan\n",
    "# Пароль: jovyan\n",
    "# Порт: 5432\n",
    "# Хост: localhost\n",
    "# База данных: de"
   ]
  },
  {
   "cell_type": "code",
   "execution_count": 1,
   "metadata": {},
   "outputs": [],
   "source": [
    "import psycopg2\n",
    "import pandas as pd\n",
    "import numpy as np\n",
    "\n",
    "conn = psycopg2.connect(\"host='localhost' port='15432' dbname='de' user='jovyan' password='jovyan'\")\n",
    "# переменная conn создаёт подключение к БД\n",
    "cur = conn.cursor()\n",
    "\n",
    "cur.close()\n",
    "conn.close()"
   ]
  },
  {
   "cell_type": "markdown",
   "metadata": {},
   "source": [
    "#### ======================================================================================================="
   ]
  },
  {
   "cell_type": "code",
   "execution_count": null,
   "metadata": {},
   "outputs": [],
   "source": [
    "# Тема 2. Анализ вводных по задаче\n",
    "# Урок 8. Анализ источника: описание его схемы\n",
    "# task 1"
   ]
  },
  {
   "cell_type": "code",
   "execution_count": 1,
   "metadata": {},
   "outputs": [],
   "source": [
    "import pandas as pd"
   ]
  },
  {
   "cell_type": "code",
   "execution_count": 65,
   "metadata": {},
   "outputs": [],
   "source": [
    "customer_research = pd.read_csv(r'C:\\Users\\Артем\\New_Jupyter\\Yandex_Practicum\\Sprint_3\\customer_research.csv', encoding='Windows-1251')\n",
    "user_activity_log = pd.read_csv(r'C:\\Users\\Артем\\New_Jupyter\\Yandex_Practicum\\Sprint_3\\user_activity_log.csv', encoding='Windows-1251')\n",
    "user_order_log = pd.read_csv(r'C:\\Users\\Артем\\New_Jupyter\\Yandex_Practicum\\Sprint_3\\user_order_log.csv', encoding='utf-8')"
   ]
  },
  {
   "cell_type": "code",
   "execution_count": 79,
   "metadata": {},
   "outputs": [
    {
     "data": {
      "text/html": [
       "<div>\n",
       "<style scoped>\n",
       "    .dataframe tbody tr th:only-of-type {\n",
       "        vertical-align: middle;\n",
       "    }\n",
       "\n",
       "    .dataframe tbody tr th {\n",
       "        vertical-align: top;\n",
       "    }\n",
       "\n",
       "    .dataframe thead th {\n",
       "        text-align: right;\n",
       "    }\n",
       "</style>\n",
       "<table border=\"1\" class=\"dataframe\">\n",
       "  <thead>\n",
       "    <tr style=\"text-align: right;\">\n",
       "      <th></th>\n",
       "      <th>date_id</th>\n",
       "      <th>category_id</th>\n",
       "      <th>geo_id</th>\n",
       "      <th>sales_qty</th>\n",
       "      <th>sales_amt</th>\n",
       "    </tr>\n",
       "  </thead>\n",
       "  <tbody>\n",
       "    <tr>\n",
       "      <th>0</th>\n",
       "      <td>2022-10-31T00:00:00</td>\n",
       "      <td>1001</td>\n",
       "      <td>1</td>\n",
       "      <td>5</td>\n",
       "      <td>4800</td>\n",
       "    </tr>\n",
       "    <tr>\n",
       "      <th>1</th>\n",
       "      <td>2022-10-31T00:00:00</td>\n",
       "      <td>1001</td>\n",
       "      <td>2</td>\n",
       "      <td>7</td>\n",
       "      <td>6720</td>\n",
       "    </tr>\n",
       "  </tbody>\n",
       "</table>\n",
       "</div>"
      ],
      "text/plain": [
       "               date_id  category_id  geo_id  sales_qty  sales_amt\n",
       "0  2022-10-31T00:00:00         1001       1          5       4800\n",
       "1  2022-10-31T00:00:00         1001       2          7       6720"
      ]
     },
     "execution_count": 79,
     "metadata": {},
     "output_type": "execute_result"
    }
   ],
   "source": [
    "customer_research.head(2)"
   ]
  },
  {
   "cell_type": "code",
   "execution_count": 80,
   "metadata": {
    "scrolled": true
   },
   "outputs": [
    {
     "data": {
      "text/html": [
       "<div>\n",
       "<style scoped>\n",
       "    .dataframe tbody tr th:only-of-type {\n",
       "        vertical-align: middle;\n",
       "    }\n",
       "\n",
       "    .dataframe tbody tr th {\n",
       "        vertical-align: top;\n",
       "    }\n",
       "\n",
       "    .dataframe thead th {\n",
       "        text-align: right;\n",
       "    }\n",
       "</style>\n",
       "<table border=\"1\" class=\"dataframe\">\n",
       "  <thead>\n",
       "    <tr style=\"text-align: right;\">\n",
       "      <th></th>\n",
       "      <th>id</th>\n",
       "      <th>uniq_id</th>\n",
       "      <th>date_time</th>\n",
       "      <th>action_id</th>\n",
       "      <th>customer_id</th>\n",
       "      <th>quantity</th>\n",
       "    </tr>\n",
       "  </thead>\n",
       "  <tbody>\n",
       "    <tr>\n",
       "      <th>0</th>\n",
       "      <td>1</td>\n",
       "      <td>cdffa70d56b7c458ac1125b817370ef1</td>\n",
       "      <td>2022-10-31T00:00:00</td>\n",
       "      <td>1</td>\n",
       "      <td>320</td>\n",
       "      <td>9</td>\n",
       "    </tr>\n",
       "    <tr>\n",
       "      <th>1</th>\n",
       "      <td>2</td>\n",
       "      <td>e387af681efc5152f212639cb4175a90</td>\n",
       "      <td>2022-10-31T00:00:00</td>\n",
       "      <td>3</td>\n",
       "      <td>741</td>\n",
       "      <td>11</td>\n",
       "    </tr>\n",
       "  </tbody>\n",
       "</table>\n",
       "</div>"
      ],
      "text/plain": [
       "   id                           uniq_id            date_time  action_id  \\\n",
       "0   1  cdffa70d56b7c458ac1125b817370ef1  2022-10-31T00:00:00          1   \n",
       "1   2  e387af681efc5152f212639cb4175a90  2022-10-31T00:00:00          3   \n",
       "\n",
       "   customer_id  quantity  \n",
       "0          320         9  \n",
       "1          741        11  "
      ]
     },
     "execution_count": 80,
     "metadata": {},
     "output_type": "execute_result"
    }
   ],
   "source": [
    "user_activity_log.head(2)"
   ]
  },
  {
   "cell_type": "code",
   "execution_count": 81,
   "metadata": {},
   "outputs": [
    {
     "data": {
      "text/html": [
       "<div>\n",
       "<style scoped>\n",
       "    .dataframe tbody tr th:only-of-type {\n",
       "        vertical-align: middle;\n",
       "    }\n",
       "\n",
       "    .dataframe tbody tr th {\n",
       "        vertical-align: top;\n",
       "    }\n",
       "\n",
       "    .dataframe thead th {\n",
       "        text-align: right;\n",
       "    }\n",
       "</style>\n",
       "<table border=\"1\" class=\"dataframe\">\n",
       "  <thead>\n",
       "    <tr style=\"text-align: right;\">\n",
       "      <th></th>\n",
       "      <th>id</th>\n",
       "      <th>uniq_id</th>\n",
       "      <th>date_time</th>\n",
       "      <th>city_id</th>\n",
       "      <th>city_name</th>\n",
       "      <th>customer_id</th>\n",
       "      <th>first_name</th>\n",
       "      <th>last_name</th>\n",
       "      <th>item_id</th>\n",
       "      <th>item_name</th>\n",
       "      <th>quantity</th>\n",
       "      <th>payment_amount</th>\n",
       "    </tr>\n",
       "  </thead>\n",
       "  <tbody>\n",
       "    <tr>\n",
       "      <th>0</th>\n",
       "      <td>1</td>\n",
       "      <td>a3c69a524dbba8f7d64e37864a612287</td>\n",
       "      <td>2022-10-31T00:00:00</td>\n",
       "      <td>2</td>\n",
       "      <td>Ярославль</td>\n",
       "      <td>5401</td>\n",
       "      <td>Александр</td>\n",
       "      <td>Кузнецов</td>\n",
       "      <td>9</td>\n",
       "      <td>Ручка шариковая</td>\n",
       "      <td>5</td>\n",
       "      <td>225</td>\n",
       "    </tr>\n",
       "    <tr>\n",
       "      <th>1</th>\n",
       "      <td>2</td>\n",
       "      <td>302b73a856a889c182819a6fe4331289</td>\n",
       "      <td>2022-10-31T00:00:00</td>\n",
       "      <td>1</td>\n",
       "      <td>Ростов</td>\n",
       "      <td>1609</td>\n",
       "      <td>Евгений</td>\n",
       "      <td>Васильев</td>\n",
       "      <td>2</td>\n",
       "      <td>Молоко 5%</td>\n",
       "      <td>3</td>\n",
       "      <td>450</td>\n",
       "    </tr>\n",
       "  </tbody>\n",
       "</table>\n",
       "</div>"
      ],
      "text/plain": [
       "   id                           uniq_id            date_time  city_id  \\\n",
       "0   1  a3c69a524dbba8f7d64e37864a612287  2022-10-31T00:00:00        2   \n",
       "1   2  302b73a856a889c182819a6fe4331289  2022-10-31T00:00:00        1   \n",
       "\n",
       "   city_name  customer_id first_name last_name  item_id        item_name  \\\n",
       "0  Ярославль         5401  Александр  Кузнецов        9  Ручка шариковая   \n",
       "1     Ростов         1609    Евгений  Васильев        2        Молоко 5%   \n",
       "\n",
       "   quantity  payment_amount  \n",
       "0         5             225  \n",
       "1         3             450  "
      ]
     },
     "execution_count": 81,
     "metadata": {},
     "output_type": "execute_result"
    }
   ],
   "source": [
    "user_order_log.head(2)"
   ]
  },
  {
   "cell_type": "markdown",
   "metadata": {},
   "source": [
    "#### ========================================================================================================"
   ]
  },
  {
   "cell_type": "code",
   "execution_count": 66,
   "metadata": {},
   "outputs": [],
   "source": [
    "# Тема 2. Анализ вводных по задаче\n",
    "# Урок 9. Перенос данных в слои хранилища\n",
    "# task 1"
   ]
  },
  {
   "cell_type": "code",
   "execution_count": null,
   "metadata": {},
   "outputs": [],
   "source": [
    "import requests\n",
    "import json\n",
    "import pandas as pd\n",
    "import psycopg2\n",
    "import numpy as np"
   ]
  },
  {
   "cell_type": "code",
   "execution_count": null,
   "metadata": {},
   "outputs": [],
   "source": [
    "conn = psycopg2.connect(\"host='localhost' port='15432' dbname='de' user='jovyan' password='jovyan'\")\n",
    "# переменная conn создаёт подключение к БД\n",
    "cur = conn.cursor()"
   ]
  },
  {
   "cell_type": "code",
   "execution_count": 67,
   "metadata": {},
   "outputs": [
    {
     "data": {
      "text/html": [
       "<div>\n",
       "<style scoped>\n",
       "    .dataframe tbody tr th:only-of-type {\n",
       "        vertical-align: middle;\n",
       "    }\n",
       "\n",
       "    .dataframe tbody tr th {\n",
       "        vertical-align: top;\n",
       "    }\n",
       "\n",
       "    .dataframe thead th {\n",
       "        text-align: right;\n",
       "    }\n",
       "</style>\n",
       "<table border=\"1\" class=\"dataframe\">\n",
       "  <thead>\n",
       "    <tr style=\"text-align: right;\">\n",
       "      <th></th>\n",
       "      <th>id</th>\n",
       "      <th>uniq_id</th>\n",
       "      <th>date_time</th>\n",
       "      <th>city_id</th>\n",
       "      <th>city_name</th>\n",
       "      <th>customer_id</th>\n",
       "      <th>first_name</th>\n",
       "      <th>last_name</th>\n",
       "      <th>item_id</th>\n",
       "      <th>item_name</th>\n",
       "      <th>quantity</th>\n",
       "      <th>payment_amount</th>\n",
       "    </tr>\n",
       "  </thead>\n",
       "  <tbody>\n",
       "    <tr>\n",
       "      <th>0</th>\n",
       "      <td>1</td>\n",
       "      <td>a3c69a524dbba8f7d64e37864a612287</td>\n",
       "      <td>2022-10-31T00:00:00</td>\n",
       "      <td>2</td>\n",
       "      <td>Ярославль</td>\n",
       "      <td>5401</td>\n",
       "      <td>Александр</td>\n",
       "      <td>Кузнецов</td>\n",
       "      <td>9</td>\n",
       "      <td>Ручка шариковая</td>\n",
       "      <td>5</td>\n",
       "      <td>225</td>\n",
       "    </tr>\n",
       "    <tr>\n",
       "      <th>1</th>\n",
       "      <td>2</td>\n",
       "      <td>302b73a856a889c182819a6fe4331289</td>\n",
       "      <td>2022-10-31T00:00:00</td>\n",
       "      <td>1</td>\n",
       "      <td>Ростов</td>\n",
       "      <td>1609</td>\n",
       "      <td>Евгений</td>\n",
       "      <td>Васильев</td>\n",
       "      <td>2</td>\n",
       "      <td>Молоко 5%</td>\n",
       "      <td>3</td>\n",
       "      <td>450</td>\n",
       "    </tr>\n",
       "  </tbody>\n",
       "</table>\n",
       "</div>"
      ],
      "text/plain": [
       "   id                           uniq_id            date_time  city_id  \\\n",
       "0   1  a3c69a524dbba8f7d64e37864a612287  2022-10-31T00:00:00        2   \n",
       "1   2  302b73a856a889c182819a6fe4331289  2022-10-31T00:00:00        1   \n",
       "\n",
       "   city_name  customer_id first_name last_name  item_id        item_name  \\\n",
       "0  Ярославль         5401  Александр  Кузнецов        9  Ручка шариковая   \n",
       "1     Ростов         1609    Евгений  Васильев        2        Молоко 5%   \n",
       "\n",
       "   quantity  payment_amount  \n",
       "0         5             225  \n",
       "1         3             450  "
      ]
     },
     "execution_count": 67,
     "metadata": {},
     "output_type": "execute_result"
    }
   ],
   "source": [
    "user_order_log.head(2)"
   ]
  },
  {
   "cell_type": "code",
   "execution_count": 68,
   "metadata": {},
   "outputs": [
    {
     "data": {
      "text/html": [
       "<div>\n",
       "<style scoped>\n",
       "    .dataframe tbody tr th:only-of-type {\n",
       "        vertical-align: middle;\n",
       "    }\n",
       "\n",
       "    .dataframe tbody tr th {\n",
       "        vertical-align: top;\n",
       "    }\n",
       "\n",
       "    .dataframe thead th {\n",
       "        text-align: right;\n",
       "    }\n",
       "</style>\n",
       "<table border=\"1\" class=\"dataframe\">\n",
       "  <thead>\n",
       "    <tr style=\"text-align: right;\">\n",
       "      <th></th>\n",
       "      <th>id</th>\n",
       "      <th>date_time</th>\n",
       "      <th>city_id</th>\n",
       "      <th>city_name</th>\n",
       "      <th>customer_id</th>\n",
       "      <th>first_name</th>\n",
       "      <th>last_name</th>\n",
       "      <th>item_id</th>\n",
       "      <th>item_name</th>\n",
       "      <th>quantity</th>\n",
       "      <th>payment_amount</th>\n",
       "    </tr>\n",
       "  </thead>\n",
       "  <tbody>\n",
       "    <tr>\n",
       "      <th>0</th>\n",
       "      <td>1</td>\n",
       "      <td>2022-10-31T00:00:00</td>\n",
       "      <td>2</td>\n",
       "      <td>Ярославль</td>\n",
       "      <td>5401</td>\n",
       "      <td>Александр</td>\n",
       "      <td>Кузнецов</td>\n",
       "      <td>9</td>\n",
       "      <td>Ручка шариковая</td>\n",
       "      <td>5</td>\n",
       "      <td>225</td>\n",
       "    </tr>\n",
       "    <tr>\n",
       "      <th>1</th>\n",
       "      <td>2</td>\n",
       "      <td>2022-10-31T00:00:00</td>\n",
       "      <td>1</td>\n",
       "      <td>Ростов</td>\n",
       "      <td>1609</td>\n",
       "      <td>Евгений</td>\n",
       "      <td>Васильев</td>\n",
       "      <td>2</td>\n",
       "      <td>Молоко 5%</td>\n",
       "      <td>3</td>\n",
       "      <td>450</td>\n",
       "    </tr>\n",
       "  </tbody>\n",
       "</table>\n",
       "</div>"
      ],
      "text/plain": [
       "   id            date_time  city_id  city_name  customer_id first_name  \\\n",
       "0   1  2022-10-31T00:00:00        2  Ярославль         5401  Александр   \n",
       "1   2  2022-10-31T00:00:00        1     Ростов         1609    Евгений   \n",
       "\n",
       "  last_name  item_id        item_name  quantity  payment_amount  \n",
       "0  Кузнецов        9  Ручка шариковая         5             225  \n",
       "1  Васильев        2        Молоко 5%         3             450  "
      ]
     },
     "execution_count": 68,
     "metadata": {},
     "output_type": "execute_result"
    }
   ],
   "source": [
    "user_order_log_2 = user_order_log[['id', 'date_time', 'city_id' ,'city_name' ,'customer_id' ,'first_name' ,'last_name' ,'item_id' ,'item_name' ,'quantity' ,'payment_amount']]\n",
    "user_order_log_2.head(2)"
   ]
  },
  {
   "cell_type": "code",
   "execution_count": 70,
   "metadata": {},
   "outputs": [
    {
     "name": "stdout",
     "output_type": "stream",
     "text": [
      "22275\r"
     ]
    }
   ],
   "source": [
    "# наполняем данными user_order_log \n",
    "insert_uol = \"insert into stage.user_order_log (id, date_time, city_id, city_name, customer_id, first_name, last_name, item_id, item_name, quantity, payment_amount) VALUES {s_val};\" \n",
    "\n",
    "i = 0\n",
    "step = int(user_order_log_2.shape[0] / 100)\n",
    "while i <= user_order_log_2.shape[0]:\n",
    "    print(i, end='\\r')\n",
    "    s_val =  str([tuple(x) for x in user_order_log_2.loc[i:i + step].to_numpy()])[1:-1]\n",
    "    cur.execute(insert_uol.replace('{s_val}',s_val))\n",
    "    conn.commit()\n",
    "    i += step+1 "
   ]
  },
  {
   "cell_type": "code",
   "execution_count": 73,
   "metadata": {},
   "outputs": [
    {
     "data": {
      "text/html": [
       "<div>\n",
       "<style scoped>\n",
       "    .dataframe tbody tr th:only-of-type {\n",
       "        vertical-align: middle;\n",
       "    }\n",
       "\n",
       "    .dataframe tbody tr th {\n",
       "        vertical-align: top;\n",
       "    }\n",
       "\n",
       "    .dataframe thead th {\n",
       "        text-align: right;\n",
       "    }\n",
       "</style>\n",
       "<table border=\"1\" class=\"dataframe\">\n",
       "  <thead>\n",
       "    <tr style=\"text-align: right;\">\n",
       "      <th></th>\n",
       "      <th>date_id</th>\n",
       "      <th>category_id</th>\n",
       "      <th>geo_id</th>\n",
       "      <th>sales_qty</th>\n",
       "      <th>sales_amt</th>\n",
       "    </tr>\n",
       "  </thead>\n",
       "  <tbody>\n",
       "    <tr>\n",
       "      <th>0</th>\n",
       "      <td>2022-10-31T00:00:00</td>\n",
       "      <td>1001</td>\n",
       "      <td>1</td>\n",
       "      <td>5</td>\n",
       "      <td>4800</td>\n",
       "    </tr>\n",
       "    <tr>\n",
       "      <th>1</th>\n",
       "      <td>2022-10-31T00:00:00</td>\n",
       "      <td>1001</td>\n",
       "      <td>2</td>\n",
       "      <td>7</td>\n",
       "      <td>6720</td>\n",
       "    </tr>\n",
       "  </tbody>\n",
       "</table>\n",
       "</div>"
      ],
      "text/plain": [
       "               date_id  category_id  geo_id  sales_qty  sales_amt\n",
       "0  2022-10-31T00:00:00         1001       1          5       4800\n",
       "1  2022-10-31T00:00:00         1001       2          7       6720"
      ]
     },
     "execution_count": 73,
     "metadata": {},
     "output_type": "execute_result"
    }
   ],
   "source": [
    "customer_research.head(2)"
   ]
  },
  {
   "cell_type": "code",
   "execution_count": 78,
   "metadata": {},
   "outputs": [
    {
     "name": "stdout",
     "output_type": "stream",
     "text": [
      "686\r"
     ]
    }
   ],
   "source": [
    "# наполняем данными customer_research\n",
    "conn = psycopg2.connect(\"host='localhost' port='15432' dbname='de' user='jovyan' password='jovyan'\")\n",
    "# переменная conn создаёт подключение к БД\n",
    "cur = conn.cursor()\n",
    "\n",
    "insert_cr = \"insert into stage.customer_research (date_id ,category_id ,geo_id ,sales_qty ,sales_amt) VALUES {s_val};\" \n",
    "\n",
    "i = 0\n",
    "step = int(customer_research.shape[0] / 100)\n",
    "while i <= customer_research.shape[0]:\n",
    "    print(i, end='\\r')\n",
    "    s_val =  str([tuple(x) for x in customer_research.loc[i:i + step].to_numpy()])[1:-1]\n",
    "    cur.execute(insert_cr.replace('{s_val}',s_val))\n",
    "    conn.commit()\n",
    "    i += step+1 "
   ]
  },
  {
   "cell_type": "code",
   "execution_count": null,
   "metadata": {},
   "outputs": [],
   "source": [
    "# наполняем данными customer_research\n",
    "conn = psycopg2.connect(\"host='localhost' port='15432' dbname='de' user='jovyan' password='jovyan'\")\n",
    "# переменная conn создаёт подключение к БД\n",
    "cur = conn.cursor()\n",
    "\n",
    "insert_cr = \"insert into stage.customer_research (date_id ,category_id ,geo_id ,sales_qty ,sales_amt) VALUES {s_val};\" \n",
    "\n",
    "i = 0\n",
    "step = int(customer_research.shape[0] / 100)\n",
    "while i <= customer_research.shape[0]:\n",
    "    print(i, end='\\r')\n",
    "    s_val =  str([tuple(x) for x in customer_research.loc[i:i + step].to_numpy()])[1:-1]\n",
    "    cur.execute(insert_cr.replace('{s_val}',s_val))\n",
    "    conn.commit()\n",
    "    i += step+1 "
   ]
  },
  {
   "cell_type": "code",
   "execution_count": 84,
   "metadata": {},
   "outputs": [
    {
     "data": {
      "text/html": [
       "<div>\n",
       "<style scoped>\n",
       "    .dataframe tbody tr th:only-of-type {\n",
       "        vertical-align: middle;\n",
       "    }\n",
       "\n",
       "    .dataframe tbody tr th {\n",
       "        vertical-align: top;\n",
       "    }\n",
       "\n",
       "    .dataframe thead th {\n",
       "        text-align: right;\n",
       "    }\n",
       "</style>\n",
       "<table border=\"1\" class=\"dataframe\">\n",
       "  <thead>\n",
       "    <tr style=\"text-align: right;\">\n",
       "      <th></th>\n",
       "      <th>id</th>\n",
       "      <th>uniq_id</th>\n",
       "      <th>date_time</th>\n",
       "      <th>action_id</th>\n",
       "      <th>customer_id</th>\n",
       "      <th>quantity</th>\n",
       "    </tr>\n",
       "  </thead>\n",
       "  <tbody>\n",
       "    <tr>\n",
       "      <th>0</th>\n",
       "      <td>1</td>\n",
       "      <td>cdffa70d56b7c458ac1125b817370ef1</td>\n",
       "      <td>2022-10-31T00:00:00</td>\n",
       "      <td>1</td>\n",
       "      <td>320</td>\n",
       "      <td>9</td>\n",
       "    </tr>\n",
       "    <tr>\n",
       "      <th>1</th>\n",
       "      <td>2</td>\n",
       "      <td>e387af681efc5152f212639cb4175a90</td>\n",
       "      <td>2022-10-31T00:00:00</td>\n",
       "      <td>3</td>\n",
       "      <td>741</td>\n",
       "      <td>11</td>\n",
       "    </tr>\n",
       "  </tbody>\n",
       "</table>\n",
       "</div>"
      ],
      "text/plain": [
       "   id                           uniq_id            date_time  action_id  \\\n",
       "0   1  cdffa70d56b7c458ac1125b817370ef1  2022-10-31T00:00:00          1   \n",
       "1   2  e387af681efc5152f212639cb4175a90  2022-10-31T00:00:00          3   \n",
       "\n",
       "   customer_id  quantity  \n",
       "0          320         9  \n",
       "1          741        11  "
      ]
     },
     "execution_count": 84,
     "metadata": {},
     "output_type": "execute_result"
    }
   ],
   "source": [
    "user_activity_log.head(2)"
   ]
  },
  {
   "cell_type": "code",
   "execution_count": 85,
   "metadata": {},
   "outputs": [
    {
     "data": {
      "text/html": [
       "<div>\n",
       "<style scoped>\n",
       "    .dataframe tbody tr th:only-of-type {\n",
       "        vertical-align: middle;\n",
       "    }\n",
       "\n",
       "    .dataframe tbody tr th {\n",
       "        vertical-align: top;\n",
       "    }\n",
       "\n",
       "    .dataframe thead th {\n",
       "        text-align: right;\n",
       "    }\n",
       "</style>\n",
       "<table border=\"1\" class=\"dataframe\">\n",
       "  <thead>\n",
       "    <tr style=\"text-align: right;\">\n",
       "      <th></th>\n",
       "      <th>id</th>\n",
       "      <th>date_time</th>\n",
       "      <th>action_id</th>\n",
       "      <th>customer_id</th>\n",
       "      <th>quantity</th>\n",
       "    </tr>\n",
       "  </thead>\n",
       "  <tbody>\n",
       "    <tr>\n",
       "      <th>0</th>\n",
       "      <td>1</td>\n",
       "      <td>2022-10-31T00:00:00</td>\n",
       "      <td>1</td>\n",
       "      <td>320</td>\n",
       "      <td>9</td>\n",
       "    </tr>\n",
       "    <tr>\n",
       "      <th>1</th>\n",
       "      <td>2</td>\n",
       "      <td>2022-10-31T00:00:00</td>\n",
       "      <td>3</td>\n",
       "      <td>741</td>\n",
       "      <td>11</td>\n",
       "    </tr>\n",
       "  </tbody>\n",
       "</table>\n",
       "</div>"
      ],
      "text/plain": [
       "   id            date_time  action_id  customer_id  quantity\n",
       "0   1  2022-10-31T00:00:00          1          320         9\n",
       "1   2  2022-10-31T00:00:00          3          741        11"
      ]
     },
     "execution_count": 85,
     "metadata": {},
     "output_type": "execute_result"
    }
   ],
   "source": [
    "user_activity_log_2 = user_activity_log[['id', 'date_time', 'action_id' ,'customer_id' ,'quantity']]\n",
    "user_activity_log_2.head(2)"
   ]
  },
  {
   "cell_type": "code",
   "execution_count": 88,
   "metadata": {},
   "outputs": [
    {
     "name": "stdout",
     "output_type": "stream",
     "text": [
      "213\r"
     ]
    }
   ],
   "source": [
    "# наполняем данными user_activity_log\n",
    "conn = psycopg2.connect(\"host='localhost' port='15432' dbname='de' user='jovyan' password='jovyan'\")\n",
    "# переменная conn создаёт подключение к БД\n",
    "cur = conn.cursor()\n",
    "\n",
    "insert_ual = \"insert into stage.user_activity_log (id ,date_time ,action_id ,customer_id ,quantity) VALUES {s_val};\" \n",
    "\n",
    "i = 0\n",
    "step = int(user_activity_log_2.shape[0] / 100)\n",
    "while i <= user_activity_log_2.shape[0]:\n",
    "    print(i, end='\\r')\n",
    "    s_val =  str([tuple(x) for x in user_activity_log_2.loc[i:i + step].to_numpy()])[1:-1]\n",
    "    cur.execute(insert_ual.replace('{s_val}',s_val))\n",
    "    conn.commit()\n",
    "    i += step+1 "
   ]
  },
  {
   "cell_type": "code",
   "execution_count": null,
   "metadata": {},
   "outputs": [],
   "source": [
    "cur.close()\n",
    "conn.close()"
   ]
  }
 ],
 "metadata": {
  "kernelspec": {
   "display_name": "Python 3",
   "language": "python",
   "name": "python3"
  },
  "language_info": {
   "codemirror_mode": {
    "name": "ipython",
    "version": 3
   },
   "file_extension": ".py",
   "mimetype": "text/x-python",
   "name": "python",
   "nbconvert_exporter": "python",
   "pygments_lexer": "ipython3",
   "version": "3.8.3"
  }
 },
 "nbformat": 4,
 "nbformat_minor": 4
}
