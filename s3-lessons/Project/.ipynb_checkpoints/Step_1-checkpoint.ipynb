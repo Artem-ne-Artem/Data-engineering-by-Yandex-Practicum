{
 "cells": [
  {
   "cell_type": "code",
   "execution_count": 1,
   "id": "fc371860",
   "metadata": {},
   "outputs": [],
   "source": [
    "import time\n",
    "import requests\n",
    "import json\n",
    "import pandas as pd\n",
    "from datetime import datetime, timedelta"
   ]
  },
  {
   "cell_type": "code",
   "execution_count": null,
   "id": "cf43b622",
   "metadata": {},
   "outputs": [],
   "source": [
    "url = 'https://d5dg1j9kt695d30blp03.apigw.yandexcloud.net'\n",
    "nickname = \"ddd.z.2000\"\n",
    "cohort = 8\n",
    "is_project = True\n",
    "\n",
    "https://storage.yandexcloud.net/s3-sprint3/cohort_{{ your_cohort_number }}/{{ your_nickname }}/project/{{ report_id }}/{{ file_name }} \n",
    "\n",
    "https://storage.yandexcloud.net/s3-sprint3/cohort_8/ddd.z.2000/True/TWpBeU1pMHhNaTB4T1ZRd05Eb3hOam94T1Fsa1pHUXVlaTR5TURBdw==/user_order_log.csv"
   ]
  },
  {
   "cell_type": "code",
   "execution_count": 2,
   "id": "c8ca32f0",
   "metadata": {},
   "outputs": [
    {
     "data": {
      "text/plain": [
       "{'task_id': 'MjAyMi0xMi0xOVQwNDo0ODo0OQlkZGQuei4yMDAw',\n",
       " 'status': 'RUNNING',\n",
       " 'data': {'report_id': None,\n",
       "  'start_day': None,\n",
       "  'end_date': None,\n",
       "  's3_path': {}}}"
      ]
     },
     "execution_count": 2,
     "metadata": {},
     "output_type": "execute_result"
    }
   ],
   "source": [
    "#получаем report_id\n",
    "import requests\n",
    "import json\n",
    " \n",
    "url = 'https://d5dg1j9kt695d30blp03.apigw.yandexcloud.net'\n",
    "nickname = \"ddd.z.2000\"\n",
    "cohort = 8\n",
    "is_project = True\n",
    " \n",
    "headers = {\n",
    "    \"X-API-KEY\": \"5f55e6c0-e9e5-4a9c-b313-63c01fc31460\",\n",
    "    \"X-Nickname\": nickname,\n",
    "    \"X-Cohort\": str(cohort),\n",
    "    \"X-Project\": str(is_project)\n",
    "}\n",
    "\n",
    "generate_report_response = requests.post(f'{url}/generate_report',headers=headers).json()\n",
    "task_id = generate_report_response[\"task_id\"]\n",
    "\n",
    "get_report_response = requests.get(f'{url}/get_report?task_id={task_id}',headers=headers).json()\n",
    "get_report_response"
   ]
  },
  {
   "cell_type": "code",
   "execution_count": 3,
   "id": "279509e8",
   "metadata": {},
   "outputs": [
    {
     "data": {
      "text/plain": [
       "[]"
      ]
     },
     "execution_count": 3,
     "metadata": {},
     "output_type": "execute_result"
    }
   ],
   "source": [
    "get_report_response = requests.get(\n",
    "    f\"https://d5dg1j9kt695d30blp03.apigw.yandexcloud.net/get_report?task_id={task_id}\", \n",
    "    headers={\n",
    "    \"X-API-KEY\": \"5f55e6c0-e9e5-4a9c-b313-63c01fc31460\",\n",
    "    \"X-Nickname\": \"ddd.z.2000\",\n",
    "    \"X-Cohort\": \"8\"\n",
    "    }\n",
    ").json()\n",
    "#print(get_report_response) \n",
    "get_report_response = get_report_response.get('data').get('s3_path').values()\n",
    "data_files = list(get_report_response)\n",
    "data_files"
   ]
  },
  {
   "cell_type": "code",
   "execution_count": 111,
   "id": "0bca1f36",
   "metadata": {},
   "outputs": [
    {
     "name": "stdout",
     "output_type": "stream",
     "text": [
      "customer_research.csv\n",
      "user_order_log.csv\n",
      "user_activity_log.csv\n",
      "price_log.csv\n"
     ]
    }
   ],
   "source": [
    "for file_name in data_files:\n",
    "    file_name = file_name.partition('==/')[-1]\n",
    "    print(file_name)"
   ]
  },
  {
   "cell_type": "code",
   "execution_count": 112,
   "id": "7ecee9e9",
   "metadata": {},
   "outputs": [
    {
     "name": "stdout",
     "output_type": "stream",
     "text": [
      "\n",
      "\n",
      "\n",
      "\n"
     ]
    }
   ],
   "source": [
    "#folder_path = 'C:\\Users\\Артем\\New_Jupyter\\Yandex_Practicum\\Sprint_3\\Sprint_3_project\\'\n",
    "\n",
    "for file in data_files:\n",
    "    file_name = file_name.partition('==/')[-1]\n",
    "    print(file_name)\n",
    "    # сохраняем файл в локальную папку\n",
    "   # pd.read_csv(file).to_csv(f'./{file}_new', index = False)\n",
    "    # выводим текст, что файл такой-то сохранён\n",
    "   # print(f'Downloaded {file}')"
   ]
  },
  {
   "cell_type": "code",
   "execution_count": 11,
   "id": "b664950d",
   "metadata": {},
   "outputs": [],
   "source": [
    "nickname = 'ddd.z.2000'\n",
    "cohort = '8'\n",
    "#https://d5dg1j9kt695d30blp03.apigw.yandexcloud.net\n",
    "\n",
    "#https://storage.yandexcloud.net/s3-sprint3/cohort_8/ddd.z.2000/TWpBeU1pMHhNaTB4T0ZRd05Ub3dOVG8xTVFsa1pHUXVlaTR5TURBdw==/customer_research.csv\n",
    "#https://storage.yandexcloud.net/s3-sprint3/cohort_8/ddd.z.2000/TWpBeU1pMHhNaTB4T0ZRd05Ub3dOVG8xTVFsa1pHUXVlaTR5TURBdw==/user_order_log.csv\n",
    "#https://storage.yandexcloud.net/s3-sprint3/cohort_8/ddd.z.2000/TWpBeU1pMHhNaTB4T0ZRd05Ub3dOVG8xTVFsa1pHUXVlaTR5TURBdw==/user_activity_log.csv\n",
    "#https://storage.yandexcloud.net/s3-sprint3/cohort_8/ddd.z.2000/TWpBeU1pMHhNaTB4T0ZRd05Ub3dOVG8xTVFsa1pHUXVlaTR5TURBdw==/price_log.csv"
   ]
  },
  {
   "cell_type": "code",
   "execution_count": 23,
   "id": "7cb83dc8",
   "metadata": {},
   "outputs": [
    {
     "data": {
      "text/plain": [
       "datetime.datetime(2022, 12, 11, 12, 24, 3, 374848)"
      ]
     },
     "execution_count": 23,
     "metadata": {},
     "output_type": "execute_result"
    }
   ],
   "source": [
    "start_date=datetime.today() - timedelta(days=7)\n",
    "start_date"
   ]
  },
  {
   "cell_type": "code",
   "execution_count": 24,
   "id": "49f6d40b",
   "metadata": {},
   "outputs": [
    {
     "data": {
      "text/plain": [
       "datetime.datetime(2022, 12, 17, 12, 24, 10, 41950)"
      ]
     },
     "execution_count": 24,
     "metadata": {},
     "output_type": "execute_result"
    }
   ],
   "source": [
    "end_date=datetime.today() - timedelta(days=1)\n",
    "end_date"
   ]
  }
 ],
 "metadata": {
  "kernelspec": {
   "display_name": "Python 3 (ipykernel)",
   "language": "python",
   "name": "python3"
  },
  "language_info": {
   "codemirror_mode": {
    "name": "ipython",
    "version": 3
   },
   "file_extension": ".py",
   "mimetype": "text/x-python",
   "name": "python",
   "nbconvert_exporter": "python",
   "pygments_lexer": "ipython3",
   "version": "3.9.13"
  }
 },
 "nbformat": 4,
 "nbformat_minor": 5
}
