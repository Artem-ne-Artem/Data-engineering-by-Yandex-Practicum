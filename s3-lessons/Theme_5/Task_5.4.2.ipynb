{
 "cells": [
  {
   "cell_type": "code",
   "execution_count": 2,
   "id": "f7fd35f5",
   "metadata": {},
   "outputs": [],
   "source": [
    "import datetime\n",
    "import requests\n",
    "import pandas as pd"
   ]
  },
  {
   "cell_type": "code",
   "execution_count": 30,
   "id": "5cde3522",
   "metadata": {},
   "outputs": [
    {
     "name": "stdout",
     "output_type": "stream",
     "text": [
      "https://storage.yandexcloud.net/s3-sprint3-static/lessons/customer_research.csv\n",
      "Downloaded 2022-12-11 customer_research.csv\n",
      "https://storage.yandexcloud.net/s3-sprint3-static/lessons/user_order_log.csv\n",
      "Downloaded 2022-12-11 user_order_log.csv\n",
      "https://storage.yandexcloud.net/s3-sprint3-static/lessons/user_activity_log.csv\n",
      "Downloaded 2022-12-11 user_activity_log.csv\n"
     ]
    }
   ],
   "source": [
    "# тестовый запрос\n",
    "files = ('customer_research.csv', 'user_order_log.csv', 'user_activity_log.csv')\n",
    "\n",
    "today_day = datetime.datetime.today().strftime('%Y-%m-%d')\n",
    "\n",
    "for file_name in files:\n",
    "    url = f\"https://storage.yandexcloud.net/s3-sprint3-static/lessons/{file_name}\"\n",
    "    print(url)\n",
    "    pd.read_csv(url).to_csv(f'C:/Users/Артем/New_Jupyter/Yandex_Practicum/Sprint_3/Theme_5/Download/{today_day}_{file_name}', index = False)\n",
    "    print(f'Downloaded {today_day} {file_name}')"
   ]
  },
  {
   "cell_type": "code",
   "execution_count": 47,
   "id": "97fcccbd",
   "metadata": {},
   "outputs": [
    {
     "name": "stdout",
     "output_type": "stream",
     "text": [
      "https://storage.yandexcloud.net/s3-sprint3-static/lessons/customer_research.csv\n",
      "Downloaded20220506 customer_research.csv\n",
      "https://storage.yandexcloud.net/s3-sprint3-static/lessons/user_order_log.csv\n",
      "Downloaded20220506 user_order_log.csv\n",
      "https://storage.yandexcloud.net/s3-sprint3-static/lessons/user_activity_log.csv\n",
      "Downloaded20220506 user_activity_log.csv\n"
     ]
    }
   ],
   "source": [
    "# Рабочий запрос\n",
    "files = ('customer_research.csv', 'user_order_log.csv', 'user_activity_log.csv')\n",
    "business_dt = {'dt':'2022-05-06'}\n",
    "#local_filaname = '/lessons/5. Реализация ETL в Airflow/4. Extract: как подключиться к хранилищу, чтобы получить файл/Задание 2/'\n",
    "local_filaname = 'C:/Users/Артем/New_Jupyter/Yandex_Practicum/Sprint_3/Theme_5/'\n",
    "\n",
    "for file_name in files:\n",
    "    url = f\"https://storage.yandexcloud.net/s3-sprint3-static/lessons/{file_name}\"\n",
    "    print(url)\n",
    "    pd.read_csv(url).to_csv(local_filaname + business_dt.get('dt').replace('-','') + '' + file_name, index = False)\n",
    "    print('Downloaded' + business_dt.get('dt').replace('-','') + ' ' + file_name)"
   ]
  },
  {
   "cell_type": "code",
   "execution_count": 49,
   "id": "1d2478ca",
   "metadata": {},
   "outputs": [
    {
     "name": "stdout",
     "output_type": "stream",
     "text": [
      "https://storage.yandexcloud.net/s3-sprint3-static/lessons/customer_research.csv\n",
      "Downloaded 20220506 customer_research.csv\n",
      "https://storage.yandexcloud.net/s3-sprint3-static/lessons/user_order_log.csv\n",
      "Downloaded 20220506 user_order_log.csv\n",
      "https://storage.yandexcloud.net/s3-sprint3-static/lessons/user_activity_log.csv\n",
      "Downloaded 20220506 user_activity_log.csv\n"
     ]
    }
   ],
   "source": [
    "# Рабочий запрос_2\n",
    "files = ('customer_research.csv', 'user_order_log.csv', 'user_activity_log.csv')\n",
    "business_dt = {'dt':'2022-05-06'}\n",
    "business_dt = business_dt.get('dt').replace('-','')\n",
    "#local_filaname = '/lessons/5. Реализация ETL в Airflow/4. Extract: как подключиться к хранилищу, чтобы получить файл/Задание 2/'\n",
    "#local_filaname = 'C:/Users/Артем/New_Jupyter/Yandex_Practicum/Sprint_3/Theme_5/'\n",
    "\n",
    "for file_name in files:\n",
    "    url = f\"https://storage.yandexcloud.net/s3-sprint3-static/lessons/{file_name}\"\n",
    "    print(url)\n",
    "    pd.read_csv(url).to_csv(f'./{business_dt}{file_name}', index = False)\n",
    "    print(f'Downloaded {business_dt} {file_name}')"
   ]
  },
  {
   "cell_type": "code",
   "execution_count": 16,
   "id": "99a84250",
   "metadata": {},
   "outputs": [
    {
     "data": {
      "text/plain": [
       "\"('d', 'a', 't', 'e', '_', 't', 'i', 'm', 'e'), ('c', 'i', 't', 'y', '_', 'i', 'd'), ('c', 'i', 't', 'y', '_', 'n', 'a', 'm', 'e'), ('c', 'u', 's', 't', 'o', 'm', 'e', 'r', '_', 'i', 'd'), ('f', 'i', 'r', 's', 't', '_', 'n', 'a', 'm', 'e'), ('l', 'a', 's', 't', '_', 'n', 'a', 'm', 'e'), ('i', 't', 'e', 'm', '_', 'i', 'd'), ('i', 't', 'e', 'm', '_', 'n', 'a', 'm', 'e'), ('q', 'u', 'a', 'n', 't', 'i', 't', 'y'), ('p', 'a', 'y', 'm', 'e', 'n', 't', '_', 'a', 'm', 'o', 'u', 'n', 't')\""
      ]
     },
     "execution_count": 16,
     "metadata": {},
     "output_type": "execute_result"
    }
   ],
   "source": [
    "# тестовый запрос\n",
    "   \n",
    "files = ('user_order_log.csv')\n",
    "url = f\"https://storage.yandexcloud.net/s3-sprint3-static/lessons/{files}\"\n",
    "df_order_log = pd.read_csv(url)\n",
    "\n",
    "step = int(df_order_log.shape[0] / 100)\n",
    "    while i <= df_order_log.shape[0]:\n",
    "        print('df_order_log', i, end='\\r')\n",
    "\n",
    "df_order_log.reset_index(drop = True, inplace = True)\n",
    "#uol_val =  str([tuple(x) for x in df_order_log.drop(columns = ['id'] , axis = 1).loc[i:i + step].to_numpy()])[1:-1]\n",
    "uol_val =  str([tuple(x) for x in df_order_log])[1:-1]\n",
    "uol_val\n",
    "#df_order_log.head(3)"
   ]
  },
  {
   "cell_type": "code",
   "execution_count": 6,
   "id": "40168aec",
   "metadata": {},
   "outputs": [
    {
     "data": {
      "text/html": [
       "<div>\n",
       "<style scoped>\n",
       "    .dataframe tbody tr th:only-of-type {\n",
       "        vertical-align: middle;\n",
       "    }\n",
       "\n",
       "    .dataframe tbody tr th {\n",
       "        vertical-align: top;\n",
       "    }\n",
       "\n",
       "    .dataframe thead th {\n",
       "        text-align: right;\n",
       "    }\n",
       "</style>\n",
       "<table border=\"1\" class=\"dataframe\">\n",
       "  <thead>\n",
       "    <tr style=\"text-align: right;\">\n",
       "      <th></th>\n",
       "      <th>date_id</th>\n",
       "      <th>category_id</th>\n",
       "      <th>geo_id</th>\n",
       "      <th>sales_qty</th>\n",
       "      <th>sales_amt</th>\n",
       "    </tr>\n",
       "  </thead>\n",
       "  <tbody>\n",
       "    <tr>\n",
       "      <th>0</th>\n",
       "      <td>2022-05-13T00:00:00</td>\n",
       "      <td>1001</td>\n",
       "      <td>1</td>\n",
       "      <td>2</td>\n",
       "      <td>486</td>\n",
       "    </tr>\n",
       "    <tr>\n",
       "      <th>1</th>\n",
       "      <td>2022-05-13T00:00:00</td>\n",
       "      <td>1001</td>\n",
       "      <td>2</td>\n",
       "      <td>1</td>\n",
       "      <td>243</td>\n",
       "    </tr>\n",
       "    <tr>\n",
       "      <th>2</th>\n",
       "      <td>2022-05-13T00:00:00</td>\n",
       "      <td>1001</td>\n",
       "      <td>3</td>\n",
       "      <td>6</td>\n",
       "      <td>1458</td>\n",
       "    </tr>\n",
       "  </tbody>\n",
       "</table>\n",
       "</div>"
      ],
      "text/plain": [
       "               date_id  category_id  geo_id  sales_qty  sales_amt\n",
       "0  2022-05-13T00:00:00         1001       1          2        486\n",
       "1  2022-05-13T00:00:00         1001       2          1        243\n",
       "2  2022-05-13T00:00:00         1001       3          6       1458"
      ]
     },
     "execution_count": 6,
     "metadata": {},
     "output_type": "execute_result"
    }
   ],
   "source": [
    "# тестовый запрос\n",
    "files = ('customer_research.csv')\n",
    "url = f\"https://storage.yandexcloud.net/s3-sprint3-static/lessons/{files}\"\n",
    "df = pd.read_csv(url)\n",
    "df.head(3)"
   ]
  },
  {
   "cell_type": "code",
   "execution_count": 7,
   "id": "4c5400e9",
   "metadata": {},
   "outputs": [
    {
     "data": {
      "text/html": [
       "<div>\n",
       "<style scoped>\n",
       "    .dataframe tbody tr th:only-of-type {\n",
       "        vertical-align: middle;\n",
       "    }\n",
       "\n",
       "    .dataframe tbody tr th {\n",
       "        vertical-align: top;\n",
       "    }\n",
       "\n",
       "    .dataframe thead th {\n",
       "        text-align: right;\n",
       "    }\n",
       "</style>\n",
       "<table border=\"1\" class=\"dataframe\">\n",
       "  <thead>\n",
       "    <tr style=\"text-align: right;\">\n",
       "      <th></th>\n",
       "      <th>date_time</th>\n",
       "      <th>action_id</th>\n",
       "      <th>customer_id</th>\n",
       "      <th>quantity</th>\n",
       "    </tr>\n",
       "  </thead>\n",
       "  <tbody>\n",
       "    <tr>\n",
       "      <th>0</th>\n",
       "      <td>2022-05-11T00:00:00</td>\n",
       "      <td>2</td>\n",
       "      <td>61</td>\n",
       "      <td>10</td>\n",
       "    </tr>\n",
       "    <tr>\n",
       "      <th>1</th>\n",
       "      <td>2022-05-11T00:00:00</td>\n",
       "      <td>0</td>\n",
       "      <td>660</td>\n",
       "      <td>1</td>\n",
       "    </tr>\n",
       "    <tr>\n",
       "      <th>2</th>\n",
       "      <td>2022-05-11T00:00:00</td>\n",
       "      <td>2</td>\n",
       "      <td>690</td>\n",
       "      <td>6</td>\n",
       "    </tr>\n",
       "  </tbody>\n",
       "</table>\n",
       "</div>"
      ],
      "text/plain": [
       "             date_time  action_id  customer_id  quantity\n",
       "0  2022-05-11T00:00:00          2           61        10\n",
       "1  2022-05-11T00:00:00          0          660         1\n",
       "2  2022-05-11T00:00:00          2          690         6"
      ]
     },
     "execution_count": 7,
     "metadata": {},
     "output_type": "execute_result"
    }
   ],
   "source": [
    "# тестовый запрос\n",
    "files = ('user_activity_log.csv')\n",
    "url = f\"https://storage.yandexcloud.net/s3-sprint3-static/lessons/{files}\"\n",
    "df = pd.read_csv(url)\n",
    "df.head(3)"
   ]
  }
 ],
 "metadata": {
  "kernelspec": {
   "display_name": "Python 3 (ipykernel)",
   "language": "python",
   "name": "python3"
  },
  "language_info": {
   "codemirror_mode": {
    "name": "ipython",
    "version": 3
   },
   "file_extension": ".py",
   "mimetype": "text/x-python",
   "name": "python",
   "nbconvert_exporter": "python",
   "pygments_lexer": "ipython3",
   "version": "3.9.13"
  }
 },
 "nbformat": 4,
 "nbformat_minor": 5
}
