{
 "cells": [
  {
   "cell_type": "code",
   "execution_count": 13,
   "id": "f7fd35f5",
   "metadata": {},
   "outputs": [],
   "source": [
    "import datetime\n",
    "import requests\n",
    "import pandas as pd"
   ]
  },
  {
   "cell_type": "code",
   "execution_count": 30,
   "id": "5cde3522",
   "metadata": {},
   "outputs": [
    {
     "name": "stdout",
     "output_type": "stream",
     "text": [
      "https://storage.yandexcloud.net/s3-sprint3-static/lessons/customer_research.csv\n",
      "Downloaded 2022-12-11 customer_research.csv\n",
      "https://storage.yandexcloud.net/s3-sprint3-static/lessons/user_order_log.csv\n",
      "Downloaded 2022-12-11 user_order_log.csv\n",
      "https://storage.yandexcloud.net/s3-sprint3-static/lessons/user_activity_log.csv\n",
      "Downloaded 2022-12-11 user_activity_log.csv\n"
     ]
    }
   ],
   "source": [
    "# тестовый запрос\n",
    "files = ('customer_research.csv', 'user_order_log.csv', 'user_activity_log.csv')\n",
    "\n",
    "today_day = datetime.datetime.today().strftime('%Y-%m-%d')\n",
    "\n",
    "for file_name in files:\n",
    "    url = f\"https://storage.yandexcloud.net/s3-sprint3-static/lessons/{file_name}\"\n",
    "    print(url)\n",
    "    pd.read_csv(url).to_csv(f'C:/Users/Артем/New_Jupyter/Yandex_Practicum/Sprint_3/Theme_5/Download/{today_day}_{file_name}', index = False)\n",
    "    print(f'Downloaded {today_day} {file_name}')"
   ]
  },
  {
   "cell_type": "code",
   "execution_count": 47,
   "id": "97fcccbd",
   "metadata": {},
   "outputs": [
    {
     "name": "stdout",
     "output_type": "stream",
     "text": [
      "https://storage.yandexcloud.net/s3-sprint3-static/lessons/customer_research.csv\n",
      "Downloaded20220506 customer_research.csv\n",
      "https://storage.yandexcloud.net/s3-sprint3-static/lessons/user_order_log.csv\n",
      "Downloaded20220506 user_order_log.csv\n",
      "https://storage.yandexcloud.net/s3-sprint3-static/lessons/user_activity_log.csv\n",
      "Downloaded20220506 user_activity_log.csv\n"
     ]
    }
   ],
   "source": [
    "# Рабочий запрос\n",
    "files = ('customer_research.csv', 'user_order_log.csv', 'user_activity_log.csv')\n",
    "business_dt = {'dt':'2022-05-06'}\n",
    "#local_filaname = '/lessons/5. Реализация ETL в Airflow/4. Extract: как подключиться к хранилищу, чтобы получить файл/Задание 2/'\n",
    "local_filaname = 'C:/Users/Артем/New_Jupyter/Yandex_Practicum/Sprint_3/Theme_5/'\n",
    "\n",
    "for file_name in files:\n",
    "    url = f\"https://storage.yandexcloud.net/s3-sprint3-static/lessons/{file_name}\"\n",
    "    print(url)\n",
    "    pd.read_csv(url).to_csv(local_filaname + business_dt.get('dt').replace('-','') + '' + file_name, index = False)\n",
    "    print('Downloaded' + business_dt.get('dt').replace('-','') + ' ' + file_name)"
   ]
  },
  {
   "cell_type": "code",
   "execution_count": 49,
   "id": "1d2478ca",
   "metadata": {},
   "outputs": [
    {
     "name": "stdout",
     "output_type": "stream",
     "text": [
      "https://storage.yandexcloud.net/s3-sprint3-static/lessons/customer_research.csv\n",
      "Downloaded 20220506 customer_research.csv\n",
      "https://storage.yandexcloud.net/s3-sprint3-static/lessons/user_order_log.csv\n",
      "Downloaded 20220506 user_order_log.csv\n",
      "https://storage.yandexcloud.net/s3-sprint3-static/lessons/user_activity_log.csv\n",
      "Downloaded 20220506 user_activity_log.csv\n"
     ]
    }
   ],
   "source": [
    "# Рабочий запрос_2\n",
    "files = ('customer_research.csv', 'user_order_log.csv', 'user_activity_log.csv')\n",
    "business_dt = {'dt':'2022-05-06'}\n",
    "business_dt = business_dt.get('dt').replace('-','')\n",
    "#local_filaname = '/lessons/5. Реализация ETL в Airflow/4. Extract: как подключиться к хранилищу, чтобы получить файл/Задание 2/'\n",
    "#local_filaname = 'C:/Users/Артем/New_Jupyter/Yandex_Practicum/Sprint_3/Theme_5/'\n",
    "\n",
    "for file_name in files:\n",
    "    url = f\"https://storage.yandexcloud.net/s3-sprint3-static/lessons/{file_name}\"\n",
    "    print(url)\n",
    "    pd.read_csv(url).to_csv(f'./{business_dt}{file_name}', index = False)\n",
    "    print(f'Downloaded {business_dt} {file_name}')"
   ]
  }
 ],
 "metadata": {
  "kernelspec": {
   "display_name": "Python 3 (ipykernel)",
   "language": "python",
   "name": "python3"
  },
  "language_info": {
   "codemirror_mode": {
    "name": "ipython",
    "version": 3
   },
   "file_extension": ".py",
   "mimetype": "text/x-python",
   "name": "python",
   "nbconvert_exporter": "python",
   "pygments_lexer": "ipython3",
   "version": "3.9.13"
  }
 },
 "nbformat": 4,
 "nbformat_minor": 5
}
